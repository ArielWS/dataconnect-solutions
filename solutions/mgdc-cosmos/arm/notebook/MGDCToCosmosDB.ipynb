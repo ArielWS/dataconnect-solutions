{
  "cells": [
    {
      "cell_type": "code",
      "source": [
        "#parameters\r\n",
        "sql_database_name = \"\"\r\n",
        "sql_server_name = \"\"\r\n",
        "keyvault_name = \"\""
      ],
      "outputs": [],
      "execution_count": null,
      "metadata": {
        "tags": [
          "parameters"
        ]
      }
    },
    {
      "cell_type": "code",
      "source": [
        "sql_username = TokenLibrary.getSecret(keyvault_name, 'jdbcUsername', 'keyvault_linkedservice')\r\n",
        "sql_password = TokenLibrary.getSecret(keyvault_name, 'jdbcPassword', 'keyvault_linkedservice')\r\n",
        "GremlinEndpoint = TokenLibrary.getSecret(keyvault_name, 'gremlinEndpoint', 'keyvault_linkedservice')\r\n",
        "GremlinUsername = TokenLibrary.getSecret(keyvault_name, 'gremlinUsername', 'keyvault_linkedservice')\r\n",
        "GremlinPassword = TokenLibrary.getSecret(keyvault_name, 'gremlinPassword', 'keyvault_linkedservice')"
      ],
      "outputs": [],
      "execution_count": null,
      "metadata": {
        "jupyter": {
          "source_hidden": false,
          "outputs_hidden": false
        },
        "nteract": {
          "transient": {
            "deleting": false
          }
        }
      }
    },
    {
      "cell_type": "code",
      "source": [
        "from pyspark.sql.types import *\r\n",
        "from gremlin_python.driver import client, serializer, protocol\r\n",
        "from gremlin_python.driver.protocol import GremlinServerError\r\n",
        "import sys\r\n",
        "import traceback"
      ],
      "outputs": [],
      "execution_count": null,
      "metadata": {
        "jupyter": {
          "source_hidden": false,
          "outputs_hidden": false
        },
        "nteract": {
          "transient": {
            "deleting": false
          }
        }
      }
    },
    {
      "cell_type": "code",
      "source": [
        "def emptyIfNull(s):\r\n",
        "    return '' if s is None else str(s)\r\n",
        "\r\n",
        "def ExecGremlinQuery(queryList):\r\n",
        "    for query in queryList:\r\n",
        "        try:\r\n",
        "            GremClient = client.Client(GremlinEndpoint, 'g', username=GremlinUsername, password=GremlinPassword, message_serializer=serializer.GraphSONSerializersV2d0())          \r\n",
        "            callback = GremClient.submitAsync(query)\r\n",
        "\r\n",
        "            if callback.result() is not None:\r\n",
        "                print(\"\\tObject inserted:\\n\\t{0}\".format(\r\n",
        "                    callback.result().all().result()))\r\n",
        "            else:\r\n",
        "                print(\"Something went wrong with this query: {0}\".format(query))\r\n",
        "\r\n",
        "        except GremlinServerError as e:\r\n",
        "            print('Code: {0}, Attributes: {1}'.format(e.status_code, e.status_attributes))\r\n",
        "\r\n",
        "        GremClient.close()"
      ],
      "outputs": [],
      "execution_count": null,
      "metadata": {
        "jupyter": {
          "source_hidden": false,
          "outputs_hidden": false
        },
        "nteract": {
          "transient": {
            "deleting": false
          }
        },
        "collapsed": false
      }
    },
    {
      "cell_type": "code",
      "source": [
        "query = \"\"\"\r\n",
        "        SELECT DISTINCT u.[displayName]\r\n",
        "            ,u.[reportsTo]\r\n",
        "            ,u.[city]\r\n",
        "            ,u.[state]\r\n",
        "            ,u.[country]\r\n",
        "            ,u.[department]\r\n",
        "            ,u.[jobTitle]\r\n",
        "            ,u.[Id]\r\n",
        "        FROM [dbo].[vUsers] u\r\n",
        "\"\"\"\r\n",
        "\r\n",
        "Person = spark.read.format(\"jdbc\") \\\r\n",
        "        .option(\"url\", f\"jdbc:sqlserver://{sql_server_name}.sql.azuresynapse.net:1433;database={sql_database_name};user={sql_username}@{sql_server_name};password={sql_password};encrypt=true;trustServerCertificate=true;hostNameInCertificate=*.sql.azuresynapse.net;loginTimeout=30;\") \\\r\n",
        "        .option(\"user\", sql_username) \\\r\n",
        "        .option(\"password\", sql_password) \\\r\n",
        "        .option(\"driver\", \"com.microsoft.sqlserver.jdbc.SQLServerDriver\") \\\r\n",
        "        .option(\"query\", query) \\\r\n",
        "        .load()\r\n",
        "\r\n",
        "PersonSchema = StructType([\r\n",
        "    StructField(\"Name\", StringType(), True),\r\n",
        "    StructField(\"ReportsTo\", StringType(), True),\r\n",
        "    StructField(\"City\", StringType(), True),\r\n",
        "    StructField(\"State\", StringType(), True),\r\n",
        "    StructField(\"Country\", StringType(), True),\r\n",
        "    StructField(\"Department\", StringType(), True),\r\n",
        "    StructField(\"JobTitle\", StringType(), True),\r\n",
        "    StructField(\"Id\", StringType(), True)\r\n",
        "])\r\n",
        "\r\n",
        "PersonDF = spark.createDataFrame(Person.rdd, PersonSchema)"
      ],
      "outputs": [],
      "execution_count": null,
      "metadata": {
        "jupyter": {
          "source_hidden": false,
          "outputs_hidden": false
        },
        "nteract": {
          "transient": {
            "deleting": false
          }
        }
      }
    },
    {
      "cell_type": "code",
      "source": [
        "CleanupGraphList = [\"g.V().drop()\"]\r\n",
        "\r\n",
        "ExecGremlinQuery(CleanupGraphList)"
      ],
      "outputs": [],
      "execution_count": null,
      "metadata": {
        "jupyter": {
          "source_hidden": false,
          "outputs_hidden": false
        },
        "nteract": {
          "transient": {
            "deleting": false
          }
        }
      }
    },
    {
      "cell_type": "code",
      "source": [
        "PersonVerticesList = []\r\n",
        "\r\n",
        "for row in PersonDF.collect():\r\n",
        "    Name = row.Name\r\n",
        "    ReportsTo = emptyIfNull(row.ReportsTo)\r\n",
        "    City = emptyIfNull(row.City)\r\n",
        "    State = emptyIfNull(row.State)\r\n",
        "    Country = emptyIfNull(row.Country)\r\n",
        "    Department = emptyIfNull(row.Department)\r\n",
        "    JobTitle = emptyIfNull(row.JobTitle)\r\n",
        "    Id = emptyIfNull(row.Id)\r\n",
        "    PersonVertexQuery = f\"g.addV('PERSON').property('id', '{Name}').property('State', '{State}').property('Country', '{Country}').property('Department', '{Department}').property('JobTitle', '{JobTitle}').property('ReportsTo', '{ReportsTo}').property('pk', '{Id}')\"\r\n",
        "\r\n",
        "    PersonVerticesList.append(PersonVertexQuery)\r\n",
        "    \r\n",
        "ExecGremlinQuery(PersonVerticesList)"
      ],
      "outputs": [],
      "execution_count": null,
      "metadata": {
        "jupyter": {
          "source_hidden": false,
          "outputs_hidden": false
        },
        "nteract": {
          "transient": {
            "deleting": false
          }
        }
      }
    },
    {
      "cell_type": "code",
      "source": [
        "Cities = PersonDF.select(PersonDF['Name'], PersonDF['City'],PersonDF['Country']).distinct()\r\n",
        "CityVerticesList = []\r\n",
        "CityEdgesList = []\r\n",
        "\r\n",
        "# Generate Vertices for all Cities\r\n",
        "for City in Cities.collect():\r\n",
        "    if City.City is not None and City.Name is not None:\r\n",
        "        Country = emptyIfNull(City.Country)\r\n",
        "        Name = City.Name\r\n",
        "\r\n",
        "        CityQueryVertices = f\"g.addV('CITY').property('id', '{City.City}').property('pk', 'city')\"\r\n",
        "        CityVerticesList.append(CityQueryVertices)\r\n",
        "        \r\n",
        "        CityQueryEdges = f\"g.V('{Name}').addE('IN_CITY').to(g.V('{City.City}'))\"\r\n",
        "        CityEdgesList.append(CityQueryEdges)       \r\n",
        "\r\n",
        "ExecGremlinQuery(CityVerticesList)\r\n",
        "ExecGremlinQuery(CityEdgesList)"
      ],
      "outputs": [],
      "execution_count": null,
      "metadata": {
        "jupyter": {
          "source_hidden": false,
          "outputs_hidden": false
        },
        "nteract": {
          "transient": {
            "deleting": false
          }
        },
        "collapsed": false
      }
    },
    {
      "cell_type": "code",
      "source": [
        "EmailQuery = \"\"\"\r\n",
        "            SELECT DISTINCT r.[From_Name]\r\n",
        "            ,r.[RecipientName]\r\n",
        "            ,r.[Subject]\r\n",
        "            ,r.[IsRead]\r\n",
        "            ,r.[RecipientType]\r\n",
        "            ,r.[MailToManager]\r\n",
        "            ,r.[MailToSubordinate]\r\n",
        "            ,r.[IsExternalEmail]\r\n",
        "            ,r.[CreatedDateTime]\r\n",
        "            FROM [dbo].[vEmails_Flattened] r \r\n",
        "            LEFT JOIN [dbo].[vUsers] u ON r.[Recipient] = u.mail\r\n",
        "            WHERE u.Id IS NOT NULL\r\n",
        "\"\"\"\r\n",
        "\r\n",
        "Emails = spark.read.format(\"jdbc\") \\\r\n",
        "        .option(\"url\", f\"jdbc:sqlserver://{sql_server_name}.sql.azuresynapse.net:1433;database={sql_database_name};user={sql_username}@{sql_server_name};password={sql_password};encrypt=true;trustServerCertificate=true;hostNameInCertificate=*.sql.azuresynapse.net;loginTimeout=30;\") \\\r\n",
        "        .option(\"user\", sql_username) \\\r\n",
        "        .option(\"password\", sql_password) \\\r\n",
        "        .option(\"driver\", \"com.microsoft.sqlserver.jdbc.SQLServerDriver\") \\\r\n",
        "        .option(\"query\", EmailQuery) \\\r\n",
        "        .load()\r\n",
        "\r\n",
        "EmailSchema = StructType([\r\n",
        "    StructField(\"FromName\", StringType(), False),\r\n",
        "    StructField(\"RecipientName\", StringType(), False),\r\n",
        "    StructField(\"Subject\", StringType(), True),\r\n",
        "    StructField(\"IsRead\", BooleanType(), True),\r\n",
        "    StructField(\"RecipientType\", StringType(), True),\r\n",
        "    StructField(\"MailToManager\", BooleanType(), True),\r\n",
        "    StructField(\"MailToSubordinate\", BooleanType(), True),\r\n",
        "    StructField(\"IsExternalEmail\", BooleanType(), True),\r\n",
        "    StructField(\"CreatedDateTime\", TimestampType(), True)\r\n",
        "])\r\n",
        "\r\n",
        "EmailsDF = spark.createDataFrame(Emails.rdd, EmailSchema)"
      ],
      "outputs": [],
      "execution_count": null,
      "metadata": {
        "jupyter": {
          "source_hidden": false,
          "outputs_hidden": false
        },
        "nteract": {
          "transient": {
            "deleting": false
          }
        }
      }
    },
    {
      "cell_type": "code",
      "source": [
        "EmailEdgesList = []\r\n",
        "\r\n",
        "for row in EmailsDF.collect():\r\n",
        "    FromName = row.FromName\r\n",
        "    RecipientName = row.RecipientName\r\n",
        "    Subject = emptyIfNull(row.Subject)\r\n",
        "    IsRead = emptyIfNull(row.IsRead)\r\n",
        "    RecipientType = emptyIfNull(row.RecipientType)\r\n",
        "    MailToManager = emptyIfNull(row.MailToManager)\r\n",
        "    MailToSubordinate = emptyIfNull(row.MailToSubordinate)\r\n",
        "    IsExternalEmail = emptyIfNull(row.IsExternalEmail)\r\n",
        "    CreatedDateTime = emptyIfNull(row.CreatedDateTime)\r\n",
        "    if RecipientType == 'To':\r\n",
        "        EmailEdgeQuery = f\"g.V('{FromName}').addE('SENT_EMAIL_TO').to(g.V('{RecipientName}')).property('Subject', '{Subject}').property('IsRead', '{IsRead}').property('RecipientType', '{RecipientType}').property('MailToManager', '{MailToManager}').property('MailToSubordinate', '{MailToSubordinate}').property('IsExternalEmail', '{IsExternalEmail}').property('CreatedDateTime', '{CreatedDateTime}')\"\r\n",
        "\r\n",
        "    else:\r\n",
        "        EmailEdgeQuery = f\"g.V('{FromName}').addE('CC_EMAIL_TO').to(g.V('{RecipientName}')).property('Subject', '{Subject}').property('IsRead', '{IsRead}').property('RecipientType', '{RecipientType}').property('MailToManager', '{MailToManager}').property('MailToSubordinate', '{MailToSubordinate}').property('IsExternalEmail', '{IsExternalEmail}').property('CreatedDateTime', '{CreatedDateTime}')\"\r\n",
        "\r\n",
        "    EmailEdgesList.append(EmailEdgeQuery)\r\n",
        "\r\n",
        "ExecGremlinQuery(EmailEdgesList)"
      ],
      "outputs": [],
      "execution_count": null,
      "metadata": {
        "jupyter": {
          "source_hidden": false,
          "outputs_hidden": false
        },
        "nteract": {
          "transient": {
            "deleting": false
          }
        },
        "collapsed": false
      }
    },
    {
      "cell_type": "code",
      "source": [
        "ChatQuery = \"\"\"\r\n",
        "                SELECT DISTINCT t.[From_Name]\r\n",
        "                ,t.[RecipientName]\r\n",
        "                ,t.[Subject]\r\n",
        "                ,t.[BodyPreview]\r\n",
        "                ,t.[Importance]\r\n",
        "                ,t.[IsRead]\r\n",
        "                ,t.[ChatWithManager]\r\n",
        "                ,t.[ChatWithSubordinate]\r\n",
        "                ,t.[IsExternalChat]\r\n",
        "                ,t.[CreatedDateTime]\r\n",
        "                FROM [dbo].[vTeamChats_Flattened] t\r\n",
        "\"\"\"\r\n",
        "\r\n",
        "Chats = spark.read.format(\"jdbc\") \\\r\n",
        "        .option(\"url\", f\"jdbc:sqlserver://{sql_server_name}.sql.azuresynapse.net:1433;database={sql_database_name};user={sql_username}@{sql_server_name};password={sql_password};encrypt=true;trustServerCertificate=true;hostNameInCertificate=*.sql.azuresynapse.net;loginTimeout=30;\") \\\r\n",
        "        .option(\"user\", sql_username) \\\r\n",
        "        .option(\"password\", sql_password) \\\r\n",
        "        .option(\"driver\", \"com.microsoft.sqlserver.jdbc.SQLServerDriver\") \\\r\n",
        "        .option(\"query\", ChatQuery) \\\r\n",
        "        .load()\r\n",
        "\r\n",
        "ChatSchema = StructType([\r\n",
        "    StructField(\"FromName\", StringType(), False),\r\n",
        "    StructField(\"RecipientName\", StringType(), False),\r\n",
        "    StructField(\"Subject\", StringType(), True),\r\n",
        "    StructField(\"BodyPreview\", StringType(), True),\r\n",
        "    StructField(\"Importance\", StringType(), True),\r\n",
        "    StructField(\"IsRead\", BooleanType(), True),\r\n",
        "    StructField(\"ChatWithManager\", BooleanType(), True),\r\n",
        "    StructField(\"ChatWithSubordinate\", BooleanType(), True),\r\n",
        "    StructField(\"IsExternalChat\", BooleanType(), True),\r\n",
        "    StructField(\"CreatedDateTime\", TimestampType(), True)\r\n",
        "])\r\n",
        "\r\n",
        "ChatsDF = spark.createDataFrame(Chats.rdd, ChatSchema)"
      ],
      "outputs": [],
      "execution_count": null,
      "metadata": {
        "jupyter": {
          "source_hidden": false,
          "outputs_hidden": false
        },
        "nteract": {
          "transient": {
            "deleting": false
          }
        }
      }
    },
    {
      "cell_type": "code",
      "source": [
        "ChatEdgesList = []\r\n",
        "\r\n",
        "for row in ChatsDF.collect():\r\n",
        "    FromName = row.FromName\r\n",
        "    RecipientName = row.RecipientName\r\n",
        "    Subject = emptyIfNull(row.Subject)\r\n",
        "    BodyPreview = emptyIfNull(row.BodyPreview)\r\n",
        "    Importance = emptyIfNull(row.Importance)\r\n",
        "    IsRead = emptyIfNull(row.IsRead)\r\n",
        "    ChatWithManager = emptyIfNull(row.ChatWithManager)\r\n",
        "    ChatWithSubordinate = emptyIfNull(row.ChatWithSubordinate)\r\n",
        "    IsExternalChat = emptyIfNull(row.IsExternalChat)\r\n",
        "    CreatedDateTime = emptyIfNull(row.CreatedDateTime)\r\n",
        "    ChatEdgeQuery = f\"g.V('{FromName}').addE('SENT_CHAT_TO').to(g.V('{RecipientName}')).property('Subject', '{Subject}').property('BodyPreview', '{BodyPreview}').property('Importance', '{Importance}').property('IsRead', '{IsRead}').property('ChatWithManager', '{ChatWithManager}').property('ChatWithSubordinate', '{ChatWithSubordinate}').property('IsExternalChat', '{IsExternalChat}').property('CreatedDateTime', '{CreatedDateTime}')\"\r\n",
        "    ChatEdgesList.append(ChatEdgeQuery)\r\n",
        "\r\n",
        "ExecGremlinQuery(ChatEdgesList)"
      ],
      "outputs": [],
      "execution_count": null,
      "metadata": {
        "jupyter": {
          "source_hidden": false,
          "outputs_hidden": false
        },
        "nteract": {
          "transient": {
            "deleting": false
          }
        }
      }
    }
  ],
  "metadata": {
    "kernelspec": {
      "name": "synapse_pyspark",
      "display_name": "Synapse PySpark"
    },
    "language_info": {
      "name": "python"
    },
    "save_output": true,
    "synapse_widget": {
      "version": "0.1",
      "state": {}
    }
  },
  "nbformat": 4,
  "nbformat_minor": 2
}