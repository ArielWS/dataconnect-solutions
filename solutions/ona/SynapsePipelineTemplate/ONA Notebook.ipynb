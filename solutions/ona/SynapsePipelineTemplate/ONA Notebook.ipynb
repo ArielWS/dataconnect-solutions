{
  "cells": [
    {
      "cell_type": "code",
      "source": [
        "# Default parameters that can be freely changed or overriden by pipeline run \r\n",
        "\r\n",
        "# Inputs\r\n",
        "calendarPath = \"abfss://mgdc@onastorage.dfs.core.windows.net/calendar_2022-06-01_to_2022-11-07/\"\r\n",
        "emailPath = \"abfss://mgdc@onastorage.dfs.core.windows.net/email_2022-06-01_to_2022-11-07/\"\r\n",
        "teamsChatPath = \"abfss://mgdc@onastorage.dfs.core.windows.net/teamschat_2022-06-01_to_2022-11-07/\"\r\n",
        "userPath = \"abfss://mgdc@onastorage.dfs.core.windows.net/user_2022-06-01_to_2022-11-07/\"\r\n",
        "\r\n",
        "# Output path of user vertices\r\n",
        "usersOutputPath = \"abfss://output@onastorage.dfs.core.windows.net/users_2022-06-01_to_2022-11-07.csv\"\r\n",
        "\r\n",
        "# Output path of user to user edges\r\n",
        "interactionsOutputPath = \"abfss://output@onastorage.dfs.core.windows.net/interactions_2022-06-01_to_2022-11-07.csv\"\r\n",
        "\r\n",
        "# StartDate/EndDate for this run that is denormalized to users and interactions tables\r\n",
        "period = \"2022-06-01 to 2022-11-07\"\r\n",
        "\r\n",
        "# Whether or not to md5 hash the input user emails\r\n",
        "obfuscateEmails = True"
      ],
      "outputs": [
        {
          "output_type": "display_data",
          "data": {
            "application/vnd.livy.statement-meta+json": {
              "spark_pool": "onasynapsepool",
              "session_id": "99",
              "statement_id": 1,
              "state": "finished",
              "livy_statement_state": "available",
              "queued_time": "2022-11-30T22:46:04.1743091Z",
              "session_start_time": "2022-11-30T22:46:04.2283616Z",
              "execution_start_time": "2022-11-30T22:50:17.3791143Z",
              "execution_finish_time": "2022-11-30T22:50:17.5476985Z",
              "spark_jobs": null
            },
            "text/plain": "StatementMeta(onasynapsepool, 99, 1, Finished, Available)"
          },
          "metadata": {}
        }
      ],
      "execution_count": 1,
      "metadata": {
        "jupyter": {
          "source_hidden": false,
          "outputs_hidden": false
        },
        "nteract": {
          "transient": {
            "deleting": false
          }
        },
        "tags": [
          "parameters"
        ]
      }
    },
    {
      "cell_type": "code",
      "source": [
        "# Load data\r\n",
        "meetingsRaw = spark.read.json(calendarPath)\r\n",
        "emailsRaw = spark.read.json(emailPath)\r\n",
        "teamschatsRaw = spark.read.json(teamsChatPath)\r\n",
        "usersRaw = spark.read.json(userPath)"
      ],
      "outputs": [
        {
          "output_type": "display_data",
          "data": {
            "application/vnd.livy.statement-meta+json": {
              "spark_pool": "onasynapsepool",
              "session_id": "99",
              "statement_id": 2,
              "state": "finished",
              "livy_statement_state": "available",
              "queued_time": "2022-11-30T22:46:04.1802223Z",
              "session_start_time": null,
              "execution_start_time": "2022-11-30T22:50:17.6781024Z",
              "execution_finish_time": "2022-11-30T22:50:47.1719331Z",
              "spark_jobs": null
            },
            "text/plain": "StatementMeta(onasynapsepool, 99, 2, Finished, Available)"
          },
          "metadata": {}
        }
      ],
      "execution_count": 2,
      "metadata": {
        "microsoft": {},
        "collapsed": false
      }
    },
    {
      "cell_type": "code",
      "source": [
        "# Drop duplicates\r\n",
        "usersDedup = usersRaw.dropDuplicates([\"puser\"])\r\n",
        "emailsDedup = emailsRaw.dropDuplicates([\"Id\"]).select(\"Sender\", \"ToRecipients\")\r\n",
        "teamschatsDedup = teamschatsRaw.dropDuplicates([\"Id\"]).select(\"Sender\", \"ToRecipients\")\r\n",
        "meetingsDedup = meetingsRaw.dropDuplicates([\"Id\"]).select(\"organizer\", \"attendees\")"
      ],
      "outputs": [
        {
          "output_type": "display_data",
          "data": {
            "application/vnd.livy.statement-meta+json": {
              "spark_pool": "onasynapsepool",
              "session_id": "99",
              "statement_id": 3,
              "state": "finished",
              "livy_statement_state": "available",
              "queued_time": "2022-11-30T22:46:04.1819501Z",
              "session_start_time": null,
              "execution_start_time": "2022-11-30T22:50:47.3342332Z",
              "execution_finish_time": "2022-11-30T22:50:47.4977512Z",
              "spark_jobs": null
            },
            "text/plain": "StatementMeta(onasynapsepool, 99, 3, Finished, Available)"
          },
          "metadata": {}
        }
      ],
      "execution_count": 3,
      "metadata": {
        "jupyter": {
          "source_hidden": false,
          "outputs_hidden": false
        },
        "nteract": {
          "transient": {
            "deleting": false
          }
        }
      }
    },
    {
      "cell_type": "code",
      "source": [
        "from pyspark.sql.functions import coalesce, col, count, explode, format_number, isnull, lit, md5, rand, size, udf\r\n",
        "import pyspark.sql.functions as F\r\n",
        "from pyspark.sql import types as t"
      ],
      "outputs": [
        {
          "output_type": "display_data",
          "data": {
            "application/vnd.livy.statement-meta+json": {
              "spark_pool": "onasynapsepool",
              "session_id": "99",
              "statement_id": 4,
              "state": "finished",
              "livy_statement_state": "available",
              "queued_time": "2022-11-30T22:46:04.1848629Z",
              "session_start_time": null,
              "execution_start_time": "2022-11-30T22:50:47.6316925Z",
              "execution_finish_time": "2022-11-30T22:50:47.7980828Z",
              "spark_jobs": null
            },
            "text/plain": "StatementMeta(onasynapsepool, 99, 4, Finished, Available)"
          },
          "metadata": {}
        }
      ],
      "execution_count": 4,
      "metadata": {
        "jupyter": {
          "source_hidden": false,
          "outputs_hidden": false
        },
        "nteract": {
          "transient": {
            "deleting": false
          }
        }
      }
    },
    {
      "cell_type": "code",
      "source": [
        "# Get the user email addresses and filter emails, teamschat, and meetings to only contain edges with those users\r\n",
        "usersEmailAddresses = usersDedup.selectExpr(\"lower(mail) as id\")"
      ],
      "outputs": [
        {
          "output_type": "display_data",
          "data": {
            "application/vnd.livy.statement-meta+json": {
              "spark_pool": "onasynapsepool",
              "session_id": "99",
              "statement_id": 5,
              "state": "finished",
              "livy_statement_state": "available",
              "queued_time": "2022-11-30T22:46:04.1896033Z",
              "session_start_time": null,
              "execution_start_time": "2022-11-30T22:50:47.9360192Z",
              "execution_finish_time": "2022-11-30T22:50:48.1820682Z",
              "spark_jobs": null
            },
            "text/plain": "StatementMeta(onasynapsepool, 99, 5, Finished, Available)"
          },
          "metadata": {}
        }
      ],
      "execution_count": 5,
      "metadata": {
        "jupyter": {
          "source_hidden": false,
          "outputs_hidden": false
        },
        "nteract": {
          "transient": {
            "deleting": false
          }
        },
        "collapsed": false
      }
    },
    {
      "cell_type": "code",
      "source": [
        "# Explode row with one sender -> N recipients into N rows\r\n",
        "# Filter to only keep emails with 5 or less recipients\r\n",
        "emails = emailsDedup.where(size(col(\"ToRecipients\")) <= 5) \\\r\n",
        "                    .select(F.lower(col(\"Sender.EmailAddress.Address\")).alias(\"sender\"), explode(col(\"ToRecipients\")).alias(\"exploded\")) \\\r\n",
        "                    .join(usersEmailAddresses, col(\"id\") == col(\"sender\"), \"inner\").drop(\"id\") \\\r\n",
        "                    .join(usersEmailAddresses, col(\"id\") == F.lower(col(\"exploded.EmailAddress.Address\")), \"inner\").drop(\"id\") \\\r\n",
        "                    .withColumn(\"src\", col(\"sender\")) \\\r\n",
        "                    .withColumn(\"dst\", F.lower(col(\"exploded.EmailAddress.Address\"))) \\\r\n",
        "                    .select(col(\"src\"), col(\"dst\")) \\\r\n",
        "                    .where(col(\"src\") != col(\"dst\"))\r\n",
        "if obfuscateEmails:\r\n",
        "    emails = emails.withColumn(\"srcHash\", md5(col(\"src\"))) \\\r\n",
        "                   .withColumn(\"dstHash\", md5(col(\"dst\"))) \\\r\n",
        "                   .drop(\"src\", \"dst\").selectExpr(\"srcHash as src\", \"dstHash as dst\")"
      ],
      "outputs": [
        {
          "output_type": "display_data",
          "data": {
            "application/vnd.livy.statement-meta+json": {
              "spark_pool": "onasynapsepool",
              "session_id": "99",
              "statement_id": 6,
              "state": "finished",
              "livy_statement_state": "available",
              "queued_time": "2022-11-30T22:46:04.1940106Z",
              "session_start_time": null,
              "execution_start_time": "2022-11-30T22:50:48.3205205Z",
              "execution_finish_time": "2022-11-30T22:50:48.915289Z",
              "spark_jobs": null
            },
            "text/plain": "StatementMeta(onasynapsepool, 99, 6, Finished, Available)"
          },
          "metadata": {}
        }
      ],
      "execution_count": 6,
      "metadata": {
        "jupyter": {
          "source_hidden": false,
          "outputs_hidden": false
        },
        "nteract": {
          "transient": {
            "deleting": false
          }
        },
        "collapsed": false
      }
    },
    {
      "cell_type": "code",
      "source": [
        "# Explode row with one sender -> N recipients into N rows\r\n",
        "# Filter to only keep teamschat messages with 5 or less recipients\r\n",
        "teamschats = teamschatsDedup.where(size(col(\"ToRecipients\")) <= 5) \\\r\n",
        "                            .select(F.lower(col(\"Sender.EmailAddress.Address\")).alias(\"sender\"), explode(col(\"ToRecipients\")).alias(\"exploded\")) \\\r\n",
        "                            .join(usersEmailAddresses, col(\"id\") == col(\"sender\"), \"inner\").drop(\"id\") \\\r\n",
        "                            .join(usersEmailAddresses, col(\"id\") == F.lower(col(\"exploded.EmailAddress.Address\")), \"inner\").drop(\"id\") \\\r\n",
        "                            .withColumn(\"src\", col(\"sender\")) \\\r\n",
        "                            .withColumn(\"dst\", F.lower(col(\"exploded.EmailAddress.Address\"))) \\\r\n",
        "                            .select(col(\"src\"), col(\"dst\")) \\\r\n",
        "                            .where(col(\"src\") != col(\"dst\"))\r\n",
        "if obfuscateEmails:\r\n",
        "    teamschats = teamschats.withColumn(\"srcHash\", md5(col(\"src\"))) \\\r\n",
        "                           .withColumn(\"dstHash\", md5(col(\"dst\"))) \\\r\n",
        "                           .drop(\"src\", \"dst\").selectExpr(\"srcHash as src\", \"dstHash as dst\")"
      ],
      "outputs": [
        {
          "output_type": "display_data",
          "data": {
            "application/vnd.livy.statement-meta+json": {
              "spark_pool": "onasynapsepool",
              "session_id": "99",
              "statement_id": 7,
              "state": "finished",
              "livy_statement_state": "available",
              "queued_time": "2022-11-30T22:46:04.1962576Z",
              "session_start_time": null,
              "execution_start_time": "2022-11-30T22:50:49.104976Z",
              "execution_finish_time": "2022-11-30T22:50:49.2905129Z",
              "spark_jobs": null
            },
            "text/plain": "StatementMeta(onasynapsepool, 99, 7, Finished, Available)"
          },
          "metadata": {}
        }
      ],
      "execution_count": 7,
      "metadata": {
        "jupyter": {
          "source_hidden": false,
          "outputs_hidden": false
        },
        "nteract": {
          "transient": {
            "deleting": false
          }
        },
        "collapsed": false
      }
    },
    {
      "cell_type": "code",
      "source": [
        "# Explode row with one organizer -> N attendees into N rows\r\n",
        "# Filter to only keep meetings with 5 or less attendees\r\n",
        "meetings = meetingsDedup.where(size(col(\"attendees\")) <= 5) \\\r\n",
        "                        .select(F.lower(col(\"organizer.emailAddress.address\")).alias(\"sender\"), explode(col(\"attendees\")).alias(\"exploded\")) \\\r\n",
        "                        .join(usersEmailAddresses, col(\"id\") == col(\"sender\"), \"inner\").drop(\"id\") \\\r\n",
        "                        .join(usersEmailAddresses, col(\"id\") == F.lower(col(\"exploded.EmailAddress.Address\")), \"inner\").drop(\"id\") \\\r\n",
        "                        .withColumn(\"src\", col(\"sender\")) \\\r\n",
        "                        .withColumn(\"dst\", F.lower(col(\"exploded.EmailAddress.Address\"))) \\\r\n",
        "                        .select(col(\"src\"), col(\"dst\")) \\\r\n",
        "                        .where(col(\"src\") != col(\"dst\"))\r\n",
        "if obfuscateEmails:\r\n",
        "    meetings = meetings.withColumn(\"srcHash\", md5(col(\"src\"))) \\\r\n",
        "                   .withColumn(\"dstHash\", md5(col(\"dst\"))) \\\r\n",
        "                   .drop(\"src\", \"dst\").selectExpr(\"srcHash as src\", \"dstHash as dst\")"
      ],
      "outputs": [
        {
          "output_type": "display_data",
          "data": {
            "application/vnd.livy.statement-meta+json": {
              "spark_pool": "onasynapsepool",
              "session_id": "99",
              "statement_id": 8,
              "state": "finished",
              "livy_statement_state": "available",
              "queued_time": "2022-11-30T22:46:04.1986991Z",
              "session_start_time": null,
              "execution_start_time": "2022-11-30T22:50:49.4298462Z",
              "execution_finish_time": "2022-11-30T22:50:49.9878958Z",
              "spark_jobs": null
            },
            "text/plain": "StatementMeta(onasynapsepool, 99, 8, Finished, Available)"
          },
          "metadata": {}
        }
      ],
      "execution_count": 8,
      "metadata": {
        "jupyter": {
          "source_hidden": false,
          "outputs_hidden": false
        },
        "nteract": {
          "transient": {
            "deleting": false
          }
        },
        "collapsed": false
      }
    },
    {
      "cell_type": "code",
      "source": [
        "# Join after counting all email, teamsChat, meeting\r\n",
        "emailEdges = emails.groupBy(\"src\", \"dst\").count().select(col(\"src\").alias(\"src1\"), col(\"dst\").alias(\"dst1\"), col(\"count\").alias(\"numEmail\"))\r\n",
        "teamsChatEdges = teamschats.groupBy(\"src\", \"dst\").count().select(col(\"src\").alias(\"src2\"), col(\"dst\").alias(\"dst2\"), col(\"count\").alias(\"numTeamsChat\"))\r\n",
        "meetingEdges = meetings.groupBy(\"src\", \"dst\").count().select(col(\"src\").alias(\"src3\"), col(\"dst\").alias(\"dst3\"), col(\"count\").alias(\"numMeeting\"))\r\n",
        "\r\n",
        "allEdges = emailEdges.alias(\"e\").join(teamsChatEdges.alias(\"t\"), (col(\"src1\") == col(\"src2\")) & (col(\"dst1\") == col(\"dst2\")), \"full\") \\\r\n",
        "                             .join(meetingEdges.alias(\"m\"), (col(\"src1\") == col(\"src3\")) & (col(\"dst1\") == col(\"dst3\")), \"full\")"
      ],
      "outputs": [
        {
          "output_type": "display_data",
          "data": {
            "application/vnd.livy.statement-meta+json": {
              "spark_pool": "onasynapsepool",
              "session_id": "99",
              "statement_id": 9,
              "state": "finished",
              "livy_statement_state": "available",
              "queued_time": "2022-11-30T22:46:04.2016283Z",
              "session_start_time": null,
              "execution_start_time": "2022-11-30T22:50:50.1536444Z",
              "execution_finish_time": "2022-11-30T22:50:50.7307386Z",
              "spark_jobs": null
            },
            "text/plain": "StatementMeta(onasynapsepool, 99, 9, Finished, Available)"
          },
          "metadata": {}
        }
      ],
      "execution_count": 9,
      "metadata": {
        "jupyter": {
          "source_hidden": false,
          "outputs_hidden": false
        },
        "nteract": {
          "transient": {
            "deleting": false
          }
        },
        "collapsed": false
      }
    },
    {
      "cell_type": "code",
      "source": [
        "# Coalesce together src/dst duplicate columns after join\r\n",
        "teamsChatToEmailRatio = 8 # interaction ratio for teamschat to email\r\n",
        "edgesRenamed = allEdges.select(\r\n",
        "    coalesce( *[col(c) for c in [\"src1\", \"src2\", \"src3\"]]).alias(\"Source\"),\r\n",
        "    coalesce( *[col(c) for c in [\"dst1\", \"dst2\", \"dst3\"]]).alias(\"Target\"),\r\n",
        "    col(\"numEmail\").alias(\"InteractionsEmail\"),\r\n",
        "    col(\"numTeamsChat\").alias(\"InteractionsMeetings\"),\r\n",
        "    col(\"numMeeting\").alias(\"InteractionsTeamsChat\")\r\n",
        ").fillna(0) \\\r\n",
        " .withColumn(\"Interactions\", (col(\"InteractionsEmail\") + col(\"InteractionsMeetings\") + F.round(col(\"InteractionsTeamsChat\")/8.0)).cast('int')) \\\r\n",
        " .withColumn(\"Period\", lit(period))\r\n",
        "edgesRenamed.coalesce(1).write.option(\"header\", True).mode(\"overwrite\").csv(interactionsOutputPath)"
      ],
      "outputs": [
        {
          "output_type": "display_data",
          "data": {
            "application/vnd.livy.statement-meta+json": {
              "spark_pool": "onasynapsepool",
              "session_id": "99",
              "statement_id": 10,
              "state": "finished",
              "livy_statement_state": "available",
              "queued_time": "2022-11-30T22:46:04.2046511Z",
              "session_start_time": null,
              "execution_start_time": "2022-11-30T22:50:50.862753Z",
              "execution_finish_time": "2022-11-30T22:51:06.0578738Z",
              "spark_jobs": null
            },
            "text/plain": "StatementMeta(onasynapsepool, 99, 10, Finished, Available)"
          },
          "metadata": {}
        }
      ],
      "execution_count": 10,
      "metadata": {
        "jupyter": {
          "source_hidden": false,
          "outputs_hidden": false
        },
        "nteract": {
          "transient": {
            "deleting": false
          }
        },
        "collapsed": false
      }
    },
    {
      "cell_type": "code",
      "source": [
        "eventsOrganized = meetings.groupBy(\"src\").count().withColumnRenamed(\"count\", \"NumberOfEventsOrganized\")\r\n",
        "eventsAttended = meetings.groupBy(\"dst\").count().withColumnRenamed(\"count\", \"NumberOfEventsAttended\")\r\n",
        "emailsSent = emails.groupBy(\"src\").count().withColumnRenamed(\"count\", \"NumberOfEmailsSent\")\r\n",
        "emailsReceived = emails.groupBy(\"dst\").count().withColumnRenamed(\"count\", \"NumberOfEmailsReceived\")\r\n",
        "teamsChatsSent = teamschats.groupBy(\"src\").count().withColumnRenamed(\"count\", \"NumberOfChatsSent\")\r\n",
        "teamsChatsReceived = teamschats.groupBy(\"dst\").count().withColumnRenamed(\"count\", \"NumberOfChatsReceived\")"
      ],
      "outputs": [
        {
          "output_type": "display_data",
          "data": {
            "application/vnd.livy.statement-meta+json": {
              "spark_pool": "onasynapsepool",
              "session_id": "99",
              "statement_id": 11,
              "state": "finished",
              "livy_statement_state": "available",
              "queued_time": "2022-11-30T22:46:04.2091768Z",
              "session_start_time": null,
              "execution_start_time": "2022-11-30T22:51:06.1952799Z",
              "execution_finish_time": "2022-11-30T22:51:06.3629801Z",
              "spark_jobs": null
            },
            "text/plain": "StatementMeta(onasynapsepool, 99, 11, Finished, Available)"
          },
          "metadata": {}
        }
      ],
      "execution_count": 11,
      "metadata": {
        "jupyter": {
          "source_hidden": false,
          "outputs_hidden": false
        },
        "nteract": {
          "transient": {
            "deleting": false
          }
        },
        "collapsed": false
      }
    },
    {
      "cell_type": "code",
      "source": [
        "# Select user properties for output and join all raw email/teamschat/meeting counts\r\n",
        "if obfuscateEmails:\r\n",
        "    usersDedup = usersDedup.withColumn(\"EmailAddress\",  md5(F.lower(col(\"mail\"))))\r\n",
        "else:\r\n",
        "    usersDedup = usersDedup.withColumn(\"EmailAddress\", F.lower(col(\"mail\")))\r\n",
        "usersRenamed = usersDedup.selectExpr(\"EmailAddress\", \"department as Department\", \"jobTitle as Title\", \"state as StateOrProvince\",\r\n",
        "                                     \"country as Country\",\"preferredLanguage as Languages\",\"ptenant as TenantID\")\r\n",
        "usersJoined = usersRenamed.join(eventsOrganized, col(\"src\") == col(\"EmailAddress\"), \"left\").drop(\"src\") \\\r\n",
        "                          .join(eventsAttended, col(\"dst\") == col(\"EmailAddress\"), \"left\").drop(\"dst\") \\\r\n",
        "                          .join(emailsSent, col(\"src\") == col(\"EmailAddress\"), \"left\").drop(\"src\") \\\r\n",
        "                          .join(emailsReceived, col(\"dst\") == col(\"EmailAddress\"), \"left\").drop(\"dst\") \\\r\n",
        "                          .join(teamsChatsSent, col(\"src\") == col(\"EmailAddress\"), \"left\").drop(\"src\") \\\r\n",
        "                          .join(teamsChatsReceived, col(\"dst\") == col(\"EmailAddress\"), \"left\").drop(\"dst\") \\\r\n",
        "                          .fillna(0)\r\n",
        "numUsers = usersJoined.count()"
      ],
      "outputs": [
        {
          "output_type": "display_data",
          "data": {
            "application/vnd.livy.statement-meta+json": {
              "spark_pool": "onasynapsepool",
              "session_id": "99",
              "statement_id": 12,
              "state": "finished",
              "livy_statement_state": "available",
              "queued_time": "2022-11-30T22:46:04.2117127Z",
              "session_start_time": null,
              "execution_start_time": "2022-11-30T22:51:06.5017997Z",
              "execution_finish_time": "2022-11-30T22:51:18.1441075Z",
              "spark_jobs": null
            },
            "text/plain": "StatementMeta(onasynapsepool, 99, 12, Finished, Available)"
          },
          "metadata": {}
        }
      ],
      "execution_count": 12,
      "metadata": {
        "jupyter": {
          "source_hidden": false,
          "outputs_hidden": false
        },
        "nteract": {
          "transient": {
            "deleting": false
          }
        },
        "collapsed": false
      }
    },
    {
      "cell_type": "code",
      "source": [
        "# Calculate out-degrees and in-degrees based on number of connections\r\n",
        "outDegreeEdges = edgesRenamed.where(col(\"Interactions\") > 0).groupBy(\"Source\").count().select(col(\"Source\"), col(\"count\").alias(\"Out-DegreeIndex\"))\r\n",
        "inDegreeEdges = edgesRenamed.where(col(\"Interactions\") > 0).groupBy(\"Target\").count().select(col(\"Target\"), col(\"count\").alias(\"In-DegreeIndex\"))"
      ],
      "outputs": [
        {
          "output_type": "display_data",
          "data": {
            "application/vnd.livy.statement-meta+json": {
              "spark_pool": "onasynapsepool",
              "session_id": "99",
              "statement_id": 13,
              "state": "finished",
              "livy_statement_state": "available",
              "queued_time": "2022-11-30T22:46:04.2153469Z",
              "session_start_time": null,
              "execution_start_time": "2022-11-30T22:51:18.2882212Z",
              "execution_finish_time": "2022-11-30T22:51:18.8517319Z",
              "spark_jobs": null
            },
            "text/plain": "StatementMeta(onasynapsepool, 99, 13, Finished, Available)"
          },
          "metadata": {}
        }
      ],
      "execution_count": 13,
      "metadata": {
        "jupyter": {
          "source_hidden": false,
          "outputs_hidden": false
        },
        "nteract": {
          "transient": {
            "deleting": false
          }
        }
      }
    },
    {
      "cell_type": "code",
      "source": [
        "# Construct networkx graph object\r\n",
        "import networkx as nx\r\n",
        "edges = edgesRenamed.selectExpr(\"Source as src\", \"Target as dst\")\r\n",
        "edgesList = [(e.src, e.dst) for e in edges.collect()]\r\n",
        "graph = nx.DiGraph()\r\n",
        "graph.add_edges_from(edgesList)"
      ],
      "outputs": [
        {
          "output_type": "display_data",
          "data": {
            "application/vnd.livy.statement-meta+json": {
              "spark_pool": "onasynapsepool",
              "session_id": "99",
              "statement_id": 14,
              "state": "finished",
              "livy_statement_state": "available",
              "queued_time": "2022-11-30T22:46:04.2179395Z",
              "session_start_time": null,
              "execution_start_time": "2022-11-30T22:51:18.9812127Z",
              "execution_finish_time": "2022-11-30T22:51:30.2822304Z",
              "spark_jobs": null
            },
            "text/plain": "StatementMeta(onasynapsepool, 99, 14, Finished, Available)"
          },
          "metadata": {}
        }
      ],
      "execution_count": 14,
      "metadata": {
        "jupyter": {
          "source_hidden": false,
          "outputs_hidden": false
        },
        "nteract": {
          "transient": {
            "deleting": false
          }
        }
      }
    },
    {
      "cell_type": "code",
      "source": [
        "# Calculate Influence Index based on page rank\r\n",
        "graphPageRank = nx.pagerank(graph, alpha=0.85, personalization=None, max_iter=100, tol=0.001, nstart=None, weight=None, dangling=None)"
      ],
      "outputs": [
        {
          "output_type": "display_data",
          "data": {
            "application/vnd.livy.statement-meta+json": {
              "spark_pool": "onasynapsepool",
              "session_id": "99",
              "statement_id": 15,
              "state": "finished",
              "livy_statement_state": "available",
              "queued_time": "2022-11-30T22:46:04.2207787Z",
              "session_start_time": null,
              "execution_start_time": "2022-11-30T22:51:30.4363413Z",
              "execution_finish_time": "2022-11-30T22:51:30.9314612Z",
              "spark_jobs": null
            },
            "text/plain": "StatementMeta(onasynapsepool, 99, 15, Finished, Available)"
          },
          "metadata": {}
        }
      ],
      "execution_count": 15,
      "metadata": {
        "jupyter": {
          "source_hidden": false,
          "outputs_hidden": false
        },
        "nteract": {
          "transient": {
            "deleting": false
          }
        }
      }
    },
    {
      "cell_type": "code",
      "source": [
        "# Define udf for adding page rank to dataframe\r\n",
        "def getPageRank(x):\r\n",
        "    return graphPageRank.get(x)\r\n",
        "influenceIndexUdf = udf(getPageRank, t.FloatType())"
      ],
      "outputs": [
        {
          "output_type": "display_data",
          "data": {
            "application/vnd.livy.statement-meta+json": {
              "spark_pool": "onasynapsepool",
              "session_id": "99",
              "statement_id": 16,
              "state": "finished",
              "livy_statement_state": "available",
              "queued_time": "2022-11-30T22:46:04.2232593Z",
              "session_start_time": null,
              "execution_start_time": "2022-11-30T22:51:31.0707143Z",
              "execution_finish_time": "2022-11-30T22:51:31.251003Z",
              "spark_jobs": null
            },
            "text/plain": "StatementMeta(onasynapsepool, 99, 16, Finished, Available)"
          },
          "metadata": {}
        }
      ],
      "execution_count": 16,
      "metadata": {
        "jupyter": {
          "source_hidden": false,
          "outputs_hidden": false
        },
        "nteract": {
          "transient": {
            "deleting": false
          }
        }
      }
    },
    {
      "cell_type": "code",
      "source": [
        "# Calculate Betweeness Index\r\n",
        "# Commented out since the complexity is O(EV) where E = edges, V = vertices\r\n",
        "# This will be slow for larger graphs, roughly above 10K users\r\n",
        "# graphBetweenness = nx.betweenness_centrality(graph)"
      ],
      "outputs": [
        {
          "output_type": "display_data",
          "data": {
            "application/vnd.livy.statement-meta+json": {
              "spark_pool": "onasynapsepool",
              "session_id": "99",
              "statement_id": 17,
              "state": "finished",
              "livy_statement_state": "available",
              "queued_time": "2022-11-30T22:46:05.8252644Z",
              "session_start_time": null,
              "execution_start_time": "2022-11-30T22:51:31.3831706Z",
              "execution_finish_time": "2022-11-30T22:51:31.5586691Z",
              "spark_jobs": null
            },
            "text/plain": "StatementMeta(onasynapsepool, 99, 17, Finished, Available)"
          },
          "metadata": {}
        }
      ],
      "execution_count": 17,
      "metadata": {
        "jupyter": {
          "source_hidden": false,
          "outputs_hidden": false
        },
        "nteract": {
          "transient": {
            "deleting": false
          }
        }
      }
    },
    {
      "cell_type": "code",
      "source": [
        "# Define udf for adding betweeness to dataframe\r\n",
        "# def getBetweeness(x):\r\n",
        "#     return graphBetweenness.get(x)\r\n",
        "# betweenessIndexUdf = udf(getBetweeness, t.FloatType())"
      ],
      "outputs": [
        {
          "output_type": "display_data",
          "data": {
            "application/vnd.livy.statement-meta+json": {
              "spark_pool": "onasynapsepool",
              "session_id": "99",
              "statement_id": 18,
              "state": "finished",
              "livy_statement_state": "available",
              "queued_time": "2022-11-30T22:46:07.0718338Z",
              "session_start_time": null,
              "execution_start_time": "2022-11-30T22:51:31.7142501Z",
              "execution_finish_time": "2022-11-30T22:51:31.8897485Z",
              "spark_jobs": null
            },
            "text/plain": "StatementMeta(onasynapsepool, 99, 18, Finished, Available)"
          },
          "metadata": {}
        }
      ],
      "execution_count": 18,
      "metadata": {
        "jupyter": {
          "source_hidden": false,
          "outputs_hidden": false
        },
        "nteract": {
          "transient": {
            "deleting": false
          }
        }
      }
    },
    {
      "cell_type": "code",
      "source": [
        "# Calculate Community Bridging Index\r\n",
        "from networkx.algorithms import community\r\n",
        "\r\n",
        "# Get community partitions and map all nodes to a community index\r\n",
        "communities = community.asyn_lpa_communities(graph, weight=None, seed=None)\r\n",
        "labelsMap = {}\r\n",
        "label = 0\r\n",
        "for comm in communities:\r\n",
        "    for node in comm:\r\n",
        "        labelsMap[node] = str(label)\r\n",
        "    label += 1"
      ],
      "outputs": [
        {
          "output_type": "display_data",
          "data": {
            "application/vnd.livy.statement-meta+json": {
              "spark_pool": "onasynapsepool",
              "session_id": "99",
              "statement_id": 19,
              "state": "finished",
              "livy_statement_state": "available",
              "queued_time": "2022-11-30T22:46:07.3009351Z",
              "session_start_time": null,
              "execution_start_time": "2022-11-30T22:51:32.0315102Z",
              "execution_finish_time": "2022-11-30T22:51:32.2969943Z",
              "spark_jobs": null
            },
            "text/plain": "StatementMeta(onasynapsepool, 99, 19, Finished, Available)"
          },
          "metadata": {}
        }
      ],
      "execution_count": 19,
      "metadata": {
        "jupyter": {
          "source_hidden": false,
          "outputs_hidden": false
        },
        "nteract": {
          "transient": {
            "deleting": false
          }
        }
      }
    },
    {
      "cell_type": "code",
      "source": [
        "# Construct udf for mapping users to community label\r\n",
        "def getLabel(x):\r\n",
        "    return labelsMap.get(x)\r\n",
        "\r\n",
        "labelUdf = udf(getLabel, t.StringType())"
      ],
      "outputs": [
        {
          "output_type": "display_data",
          "data": {
            "application/vnd.livy.statement-meta+json": {
              "spark_pool": "onasynapsepool",
              "session_id": "99",
              "statement_id": 20,
              "state": "finished",
              "livy_statement_state": "available",
              "queued_time": "2022-11-30T22:46:07.5180374Z",
              "session_start_time": null,
              "execution_start_time": "2022-11-30T22:51:32.4253559Z",
              "execution_finish_time": "2022-11-30T22:51:32.597849Z",
              "spark_jobs": null
            },
            "text/plain": "StatementMeta(onasynapsepool, 99, 20, Finished, Available)"
          },
          "metadata": {}
        }
      ],
      "execution_count": 20,
      "metadata": {
        "jupyter": {
          "source_hidden": false,
          "outputs_hidden": false
        },
        "nteract": {
          "transient": {
            "deleting": false
          }
        }
      }
    },
    {
      "cell_type": "code",
      "source": [
        "# Counts how many communities C a user is connected to with an out edge, normalized by num of communities\r\n",
        "# For all users, compute C / (num of Communities)\r\n",
        "# 1 = they are connected to all communities\r\n",
        "# 0 = they have no connections\r\n",
        "\r\n",
        "# enrich edges by mapping target dst node to community\r\n",
        "edgesLabelled = edges.withColumn(\"Community\", labelUdf(col(\"dst\"))).drop(\"dst\").distinct()\r\n",
        "\r\n",
        "# group on src and count how many distinct community labelled targets each src has\r\n",
        "communityBridging = edgesLabelled.groupBy(\"src\").count() \\\r\n",
        "                                 .withColumn(\"CommunityBridgeIndex\", col(\"count\") / float(len(labelsMap))).drop(\"count\")"
      ],
      "outputs": [
        {
          "output_type": "display_data",
          "data": {
            "application/vnd.livy.statement-meta+json": {
              "spark_pool": "onasynapsepool",
              "session_id": "99",
              "statement_id": 21,
              "state": "finished",
              "livy_statement_state": "available",
              "queued_time": "2022-11-30T22:46:07.6750029Z",
              "session_start_time": null,
              "execution_start_time": "2022-11-30T22:51:32.7315563Z",
              "execution_finish_time": "2022-11-30T22:51:33.2884628Z",
              "spark_jobs": null
            },
            "text/plain": "StatementMeta(onasynapsepool, 99, 21, Finished, Available)"
          },
          "metadata": {}
        }
      ],
      "execution_count": 21,
      "metadata": {
        "jupyter": {
          "source_hidden": false,
          "outputs_hidden": false
        },
        "nteract": {
          "transient": {
            "deleting": false
          }
        }
      }
    },
    {
      "cell_type": "code",
      "source": [
        "# Join all indexes to users and output\r\n",
        "usersEnriched = usersJoined.join(outDegreeEdges, col(\"Source\") == col(\"EmailAddress\"), \"left\").drop(\"Source\") \\\r\n",
        "                           .join(inDegreeEdges, col(\"Target\") == col(\"EmailAddress\"), \"left\").drop(\"Target\") \\\r\n",
        "                           .fillna(0) \\\r\n",
        "                           .withColumn(\"DegreeIndex\", (col(\"In-DegreeIndex\") + col(\"Out-DegreeIndex\")) / (2 * numUsers)) \\\r\n",
        "                           .withColumn(\"Community\", labelUdf(col(\"EmailAddress\"))) \\\r\n",
        "                           .join(communityBridging, col(\"src\") == col(\"EmailAddress\"), \"left\").drop(\"src\") \\\r\n",
        "                           .withColumn(\"InfluenceIndex\", influenceIndexUdf(col(\"EmailAddress\"))) \\\r\n",
        "                           .fillna(0) \\\r\n",
        "                           .withColumn(\"Period\", lit(period))\r\n",
        "usersEnriched.coalesce(1).write.option(\"header\", True).mode(\"overwrite\").csv(usersOutputPath)"
      ],
      "outputs": [
        {
          "output_type": "display_data",
          "data": {
            "application/vnd.livy.statement-meta+json": {
              "spark_pool": "onasynapsepool",
              "session_id": "99",
              "statement_id": 22,
              "state": "finished",
              "livy_statement_state": "available",
              "queued_time": "2022-11-30T22:46:07.8567142Z",
              "session_start_time": null,
              "execution_start_time": "2022-11-30T22:51:33.427847Z",
              "execution_finish_time": "2022-11-30T22:52:10.5691156Z",
              "spark_jobs": null
            },
            "text/plain": "StatementMeta(onasynapsepool, 99, 22, Finished, Available)"
          },
          "metadata": {}
        }
      ],
      "execution_count": 22,
      "metadata": {
        "jupyter": {
          "source_hidden": false,
          "outputs_hidden": false
        },
        "nteract": {
          "transient": {
            "deleting": false
          }
        },
        "collapsed": false
      }
    }
  ],
  "metadata": {
    "kernelspec": {
      "name": "synapse_pyspark",
      "language": "Python",
      "display_name": "Synapse PySpark"
    },
    "language_info": {
      "name": "python"
    },
    "kernel_info": {
      "name": "synapse_pyspark"
    },
    "description": null,
    "save_output": true,
    "synapse_widget": {
      "version": "0.1",
      "state": {}
    }
  },
  "nbformat": 4,
  "nbformat_minor": 2
}