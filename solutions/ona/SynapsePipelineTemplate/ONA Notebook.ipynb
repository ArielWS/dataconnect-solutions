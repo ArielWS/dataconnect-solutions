{
  "cells": [
    {
      "cell_type": "code",
      "execution_count": 1,
      "metadata": {
        "jupyter": {
          "outputs_hidden": false,
          "source_hidden": false
        },
        "nteract": {
          "transient": {
            "deleting": false
          }
        },
        "tags": [
          "parameters"
        ]
      },
      "outputs": [
        {
          "data": {
            "application/vnd.livy.statement-meta+json": {
              "execution_finish_time": "2022-12-10T01:58:48.9198243Z",
              "execution_start_time": "2022-12-10T01:58:48.7548608Z",
              "livy_statement_state": "available",
              "queued_time": "2022-12-10T01:54:46.7673776Z",
              "session_id": "105",
              "session_start_time": "2022-12-10T01:54:46.8425829Z",
              "spark_jobs": null,
              "spark_pool": "onasynapsepool",
              "state": "finished",
              "statement_id": 1
            },
            "text/plain": [
              "StatementMeta(onasynapsepool, 105, 1, Finished, Available)"
            ]
          },
          "metadata": {},
          "output_type": "display_data"
        }
      ],
      "source": [
        "# Default parameters that can be freely changed or overriden by pipeline run \n",
        "\n",
        "# Inputs\n",
        "calendarPath = \"abfss://mgdc@onastorage.dfs.core.windows.net/calendar_2022-06-01_to_2022-11-07/\"\n",
        "emailPath = \"abfss://mgdc@onastorage.dfs.core.windows.net/email_2022-06-01_to_2022-11-07/\"\n",
        "teamsChatPath = \"abfss://mgdc@onastorage.dfs.core.windows.net/teamschat_2022-06-01_to_2022-11-07/\"\n",
        "userPath = \"abfss://mgdc@onastorage.dfs.core.windows.net/user_2022-06-01_to_2022-11-07/\"\n",
        "\n",
        "#Output Format: Can be csv or parquet\n",
        "outputFormat = \"csv\"\n",
        "\n",
        "# Output path of user vertices\n",
        "usersOutputPathCSV = \"abfss://output@onastorage.dfs.core.windows.net/users_2022-06-01_to_2022-11-07.csv\"\n",
        "usersOutputPathParquet = \"abfss://output@onastorage.dfs.core.windows.net/users_2022-06-01_to_2022-11-07.parquet\"\n",
        "\n",
        "# Output path of user to user edges\n",
        "interactionsOutputPathCSV = \"abfss://output@onastorage.dfs.core.windows.net/interactions_2022-06-01_to_2022-11-07.csv\"\n",
        "interactionsOutputPathParquet = \"abfss://output@onastorage.dfs.core.windows.net/interactions_2022-06-01_to_2022-11-07.parquet\"\n",
        "\n",
        "# StartDate/EndDate for this run that is denormalized to users and interactions tables\n",
        "period = \"2022-06-01 to 2022-11-07\"\n",
        "\n",
        "# Whether or not to md5 hash the input user emails\n",
        "obfuscateEmails = True\n",
        "\n",
        "#Set User Output Path\n",
        "if outputFormat == \"csv\":\n",
        "    usersOutputPath = usersOutputPathCSV\n",
        "elif outputFormat == \"parquet\":\n",
        "    usersOutputPath = usersOutputPathParquet\n",
        "\n",
        "#Set Interactions Output Path\n",
        "if outputFormat == \"csv\":\n",
        "    usersOutputPath = interactionsOutputPathCSV\n",
        "elif outputFormat == \"parquet\":\n",
        "    usersOutputPath = interactionsOutputPathParquet"
      ]
    },
    {
      "cell_type": "code",
      "execution_count": 2,
      "metadata": {
        "collapsed": false,
        "microsoft": {}
      },
      "outputs": [
        {
          "data": {
            "application/vnd.livy.statement-meta+json": {
              "execution_finish_time": "2022-12-10T01:59:18.4310073Z",
              "execution_start_time": "2022-12-10T01:58:49.0523458Z",
              "livy_statement_state": "available",
              "queued_time": "2022-12-10T01:54:46.7693551Z",
              "session_id": "105",
              "session_start_time": null,
              "spark_jobs": null,
              "spark_pool": "onasynapsepool",
              "state": "finished",
              "statement_id": 2
            },
            "text/plain": [
              "StatementMeta(onasynapsepool, 105, 2, Finished, Available)"
            ]
          },
          "metadata": {},
          "output_type": "display_data"
        }
      ],
      "source": [
        "# Load data\n",
        "meetingsRaw = spark.read.json(calendarPath)\n",
        "emailsRaw = spark.read.json(emailPath)\n",
        "teamschatsRaw = spark.read.json(teamsChatPath)\n",
        "usersRaw = spark.read.json(userPath)"
      ]
    },
    {
      "cell_type": "code",
      "execution_count": 3,
      "metadata": {
        "jupyter": {
          "outputs_hidden": false,
          "source_hidden": false
        },
        "nteract": {
          "transient": {
            "deleting": false
          }
        }
      },
      "outputs": [
        {
          "data": {
            "application/vnd.livy.statement-meta+json": {
              "execution_finish_time": "2022-12-10T01:59:18.7819635Z",
              "execution_start_time": "2022-12-10T01:59:18.6064763Z",
              "livy_statement_state": "available",
              "queued_time": "2022-12-10T01:54:46.7710308Z",
              "session_id": "105",
              "session_start_time": null,
              "spark_jobs": null,
              "spark_pool": "onasynapsepool",
              "state": "finished",
              "statement_id": 3
            },
            "text/plain": [
              "StatementMeta(onasynapsepool, 105, 3, Finished, Available)"
            ]
          },
          "metadata": {},
          "output_type": "display_data"
        }
      ],
      "source": [
        "# Drop duplicates\n",
        "usersDedup = usersRaw.dropDuplicates([\"puser\"])\n",
        "emailsDedup = emailsRaw.dropDuplicates([\"Id\"]).select(\"Sender\", \"ToRecipients\")\n",
        "teamschatsDedup = teamschatsRaw.dropDuplicates([\"Id\"]).select(\"Sender\", \"ToRecipients\")\n",
        "meetingsDedup = meetingsRaw.dropDuplicates([\"Id\"]).select(\"organizer\", \"attendees\")"
      ]
    },
    {
      "cell_type": "code",
      "execution_count": 4,
      "metadata": {
        "jupyter": {
          "outputs_hidden": false,
          "source_hidden": false
        },
        "nteract": {
          "transient": {
            "deleting": false
          }
        }
      },
      "outputs": [
        {
          "data": {
            "application/vnd.livy.statement-meta+json": {
              "execution_finish_time": "2022-12-10T01:59:19.1115429Z",
              "execution_start_time": "2022-12-10T01:59:18.9412968Z",
              "livy_statement_state": "available",
              "queued_time": "2022-12-10T01:54:46.772728Z",
              "session_id": "105",
              "session_start_time": null,
              "spark_jobs": null,
              "spark_pool": "onasynapsepool",
              "state": "finished",
              "statement_id": 4
            },
            "text/plain": [
              "StatementMeta(onasynapsepool, 105, 4, Finished, Available)"
            ]
          },
          "metadata": {},
          "output_type": "display_data"
        }
      ],
      "source": [
        "from pyspark.sql.functions import coalesce, col, count, explode, format_number, isnull, lit, md5, rand, size, udf\n",
        "import pyspark.sql.functions as F\n",
        "from pyspark.sql import types as t"
      ]
    },
    {
      "cell_type": "code",
      "execution_count": 5,
      "metadata": {
        "collapsed": false,
        "jupyter": {
          "outputs_hidden": false,
          "source_hidden": false
        },
        "nteract": {
          "transient": {
            "deleting": false
          }
        }
      },
      "outputs": [
        {
          "data": {
            "application/vnd.livy.statement-meta+json": {
              "execution_finish_time": "2022-12-10T01:59:19.8078745Z",
              "execution_start_time": "2022-12-10T01:59:19.2468531Z",
              "livy_statement_state": "available",
              "queued_time": "2022-12-10T01:54:46.775026Z",
              "session_id": "105",
              "session_start_time": null,
              "spark_jobs": null,
              "spark_pool": "onasynapsepool",
              "state": "finished",
              "statement_id": 5
            },
            "text/plain": [
              "StatementMeta(onasynapsepool, 105, 5, Finished, Available)"
            ]
          },
          "metadata": {},
          "output_type": "display_data"
        }
      ],
      "source": [
        "# Get the user email addresses and filter emails, teamschat, and meetings to only contain edges with those users\n",
        "usersEmailAddresses = usersDedup.selectExpr(\"lower(mail) as id\")"
      ]
    },
    {
      "cell_type": "code",
      "execution_count": 6,
      "metadata": {
        "collapsed": false,
        "jupyter": {
          "outputs_hidden": false,
          "source_hidden": false
        },
        "nteract": {
          "transient": {
            "deleting": false
          }
        }
      },
      "outputs": [
        {
          "data": {
            "application/vnd.livy.statement-meta+json": {
              "execution_finish_time": "2022-12-10T01:59:20.4828189Z",
              "execution_start_time": "2022-12-10T01:59:19.9320294Z",
              "livy_statement_state": "available",
              "queued_time": "2022-12-10T01:54:46.7818848Z",
              "session_id": "105",
              "session_start_time": null,
              "spark_jobs": null,
              "spark_pool": "onasynapsepool",
              "state": "finished",
              "statement_id": 6
            },
            "text/plain": [
              "StatementMeta(onasynapsepool, 105, 6, Finished, Available)"
            ]
          },
          "metadata": {},
          "output_type": "display_data"
        }
      ],
      "source": [
        "# Explode row with one sender -> N recipients into N rows\n",
        "# Filter to only keep emails with 5 or less recipients\n",
        "emails = emailsDedup.where(size(col(\"ToRecipients\")) <= 5) \\\n",
        "                    .select(F.lower(col(\"Sender.EmailAddress.Address\")).alias(\"sender\"), explode(col(\"ToRecipients\")).alias(\"exploded\")) \\\n",
        "                    .join(usersEmailAddresses, col(\"id\") == col(\"sender\"), \"inner\").drop(\"id\") \\\n",
        "                    .join(usersEmailAddresses, col(\"id\") == F.lower(col(\"exploded.EmailAddress.Address\")), \"inner\").drop(\"id\") \\\n",
        "                    .withColumn(\"src\", col(\"sender\")) \\\n",
        "                    .withColumn(\"dst\", F.lower(col(\"exploded.EmailAddress.Address\"))) \\\n",
        "                    .select(col(\"src\"), col(\"dst\")) \\\n",
        "                    .where(col(\"src\") != col(\"dst\"))\n",
        "if obfuscateEmails:\n",
        "    emails = emails.withColumn(\"srcHash\", md5(col(\"src\"))) \\\n",
        "                   .withColumn(\"dstHash\", md5(col(\"dst\"))) \\\n",
        "                   .drop(\"src\", \"dst\").selectExpr(\"srcHash as src\", \"dstHash as dst\")"
      ]
    },
    {
      "cell_type": "code",
      "execution_count": 7,
      "metadata": {
        "collapsed": false,
        "jupyter": {
          "outputs_hidden": false,
          "source_hidden": false
        },
        "nteract": {
          "transient": {
            "deleting": false
          }
        }
      },
      "outputs": [
        {
          "data": {
            "application/vnd.livy.statement-meta+json": {
              "execution_finish_time": "2022-12-10T01:59:21.2088855Z",
              "execution_start_time": "2022-12-10T01:59:20.627382Z",
              "livy_statement_state": "available",
              "queued_time": "2022-12-10T01:54:46.7851063Z",
              "session_id": "105",
              "session_start_time": null,
              "spark_jobs": null,
              "spark_pool": "onasynapsepool",
              "state": "finished",
              "statement_id": 7
            },
            "text/plain": [
              "StatementMeta(onasynapsepool, 105, 7, Finished, Available)"
            ]
          },
          "metadata": {},
          "output_type": "display_data"
        }
      ],
      "source": [
        "# Explode row with one sender -> N recipients into N rows\n",
        "# Filter to only keep teamschat messages with 5 or less recipients\n",
        "teamschats = teamschatsDedup.where(size(col(\"ToRecipients\")) <= 5) \\\n",
        "                            .select(F.lower(col(\"Sender.EmailAddress.Address\")).alias(\"sender\"), explode(col(\"ToRecipients\")).alias(\"exploded\")) \\\n",
        "                            .join(usersEmailAddresses, col(\"id\") == col(\"sender\"), \"inner\").drop(\"id\") \\\n",
        "                            .join(usersEmailAddresses, col(\"id\") == F.lower(col(\"exploded.EmailAddress.Address\")), \"inner\").drop(\"id\") \\\n",
        "                            .withColumn(\"src\", col(\"sender\")) \\\n",
        "                            .withColumn(\"dst\", F.lower(col(\"exploded.EmailAddress.Address\"))) \\\n",
        "                            .select(col(\"src\"), col(\"dst\")) \\\n",
        "                            .where(col(\"src\") != col(\"dst\"))\n",
        "if obfuscateEmails:\n",
        "    teamschats = teamschats.withColumn(\"srcHash\", md5(col(\"src\"))) \\\n",
        "                           .withColumn(\"dstHash\", md5(col(\"dst\"))) \\\n",
        "                           .drop(\"src\", \"dst\").selectExpr(\"srcHash as src\", \"dstHash as dst\")"
      ]
    },
    {
      "cell_type": "code",
      "execution_count": 8,
      "metadata": {
        "collapsed": false,
        "jupyter": {
          "outputs_hidden": false,
          "source_hidden": false
        },
        "nteract": {
          "transient": {
            "deleting": false
          }
        }
      },
      "outputs": [
        {
          "data": {
            "application/vnd.livy.statement-meta+json": {
              "execution_finish_time": "2022-12-10T01:59:21.5864567Z",
              "execution_start_time": "2022-12-10T01:59:21.3699635Z",
              "livy_statement_state": "available",
              "queued_time": "2022-12-10T01:54:46.787791Z",
              "session_id": "105",
              "session_start_time": null,
              "spark_jobs": null,
              "spark_pool": "onasynapsepool",
              "state": "finished",
              "statement_id": 8
            },
            "text/plain": [
              "StatementMeta(onasynapsepool, 105, 8, Finished, Available)"
            ]
          },
          "metadata": {},
          "output_type": "display_data"
        }
      ],
      "source": [
        "# Explode row with one organizer -> N attendees into N rows\n",
        "# Filter to only keep meetings with 5 or less attendees\n",
        "meetings = meetingsDedup.where(size(col(\"attendees\")) <= 5) \\\n",
        "                        .select(F.lower(col(\"organizer.emailAddress.address\")).alias(\"sender\"), explode(col(\"attendees\")).alias(\"exploded\")) \\\n",
        "                        .join(usersEmailAddresses, col(\"id\") == col(\"sender\"), \"inner\").drop(\"id\") \\\n",
        "                        .join(usersEmailAddresses, col(\"id\") == F.lower(col(\"exploded.EmailAddress.Address\")), \"inner\").drop(\"id\") \\\n",
        "                        .withColumn(\"src\", col(\"sender\")) \\\n",
        "                        .withColumn(\"dst\", F.lower(col(\"exploded.EmailAddress.Address\"))) \\\n",
        "                        .select(col(\"src\"), col(\"dst\")) \\\n",
        "                        .where(col(\"src\") != col(\"dst\"))\n",
        "if obfuscateEmails:\n",
        "    meetings = meetings.withColumn(\"srcHash\", md5(col(\"src\"))) \\\n",
        "                   .withColumn(\"dstHash\", md5(col(\"dst\"))) \\\n",
        "                   .drop(\"src\", \"dst\").selectExpr(\"srcHash as src\", \"dstHash as dst\")"
      ]
    },
    {
      "cell_type": "code",
      "execution_count": 9,
      "metadata": {
        "collapsed": false,
        "jupyter": {
          "outputs_hidden": false,
          "source_hidden": false
        },
        "nteract": {
          "transient": {
            "deleting": false
          }
        }
      },
      "outputs": [
        {
          "data": {
            "application/vnd.livy.statement-meta+json": {
              "execution_finish_time": "2022-12-10T01:59:22.2788857Z",
              "execution_start_time": "2022-12-10T01:59:21.7132125Z",
              "livy_statement_state": "available",
              "queued_time": "2022-12-10T01:54:46.790121Z",
              "session_id": "105",
              "session_start_time": null,
              "spark_jobs": null,
              "spark_pool": "onasynapsepool",
              "state": "finished",
              "statement_id": 9
            },
            "text/plain": [
              "StatementMeta(onasynapsepool, 105, 9, Finished, Available)"
            ]
          },
          "metadata": {},
          "output_type": "display_data"
        }
      ],
      "source": [
        "# Join after counting all email, teamsChat, meeting\n",
        "emailEdges = emails.groupBy(\"src\", \"dst\").count().select(col(\"src\").alias(\"src1\"), col(\"dst\").alias(\"dst1\"), col(\"count\").alias(\"numEmail\"))\n",
        "teamsChatEdges = teamschats.groupBy(\"src\", \"dst\").count().select(col(\"src\").alias(\"src2\"), col(\"dst\").alias(\"dst2\"), col(\"count\").alias(\"numTeamsChat\"))\n",
        "meetingEdges = meetings.groupBy(\"src\", \"dst\").count().select(col(\"src\").alias(\"src3\"), col(\"dst\").alias(\"dst3\"), col(\"count\").alias(\"numMeeting\"))\n",
        "\n",
        "allEdges = emailEdges.alias(\"e\").join(teamsChatEdges.alias(\"t\"), (col(\"src1\") == col(\"src2\")) & (col(\"dst1\") == col(\"dst2\")), \"full\") \\\n",
        "                                .join(meetingEdges.alias(\"m\"), (col(\"src1\") == col(\"src3\")) & (col(\"dst1\") == col(\"dst3\")), \"full\")"
      ]
    },
    {
      "cell_type": "code",
      "execution_count": 11,
      "metadata": {
        "collapsed": false,
        "jupyter": {
          "outputs_hidden": false,
          "source_hidden": false
        },
        "nteract": {
          "transient": {
            "deleting": false
          }
        }
      },
      "outputs": [
        {
          "data": {
            "application/vnd.livy.statement-meta+json": {
              "execution_finish_time": "2022-12-10T02:03:32.7114527Z",
              "execution_start_time": "2022-12-10T02:03:17.5439697Z",
              "livy_statement_state": "available",
              "queued_time": "2022-12-10T02:03:16.2533968Z",
              "session_id": "105",
              "session_start_time": null,
              "spark_jobs": null,
              "spark_pool": "onasynapsepool",
              "state": "finished",
              "statement_id": 11
            },
            "text/plain": [
              "StatementMeta(onasynapsepool, 105, 11, Finished, Available)"
            ]
          },
          "metadata": {},
          "output_type": "display_data"
        }
      ],
      "source": [
        "# Coalesce together src/dst duplicate columns after join\n",
        "teamsChatToEmailRatio = 8.0 # interaction ratio for teamschat to email\n",
        "edgesRenamed = allEdges.select(\n",
        "    coalesce( *[col(c) for c in [\"src1\", \"src2\", \"src3\"]]).alias(\"Source\"),\n",
        "    coalesce( *[col(c) for c in [\"dst1\", \"dst2\", \"dst3\"]]).alias(\"Target\"),\n",
        "    col(\"numEmail\").alias(\"InteractionsEmail\"),\n",
        "    col(\"numTeamsChat\").alias(\"InteractionsTeamsChat\"),\n",
        "    col(\"numMeeting\").alias(\"InteractionsMeetings\")\n",
        ").fillna(0) \\\n",
        " .withColumn(\"Interactions\", (col(\"InteractionsEmail\") + col(\"InteractionsMeetings\") + F.round(col(\"InteractionsTeamsChat\")/teamsChatToEmailRatio)).cast('int')) \\\n",
        " .withColumn(\"Period\", lit(period))\n",
        "if outputFormat == \"csv\":\n",
        "    usersEnriched.coalesce(1).write.option(\"header\", True).mode(\"overwrite\").csv(usersOutputPath)\n",
        "elif outputFormat == \"parquet\":\n",
        "    usersEnriched.coalesce(1).write.option(\"header\", True).mode(\"overwrite\").parquet(usersOutputPath)"
      ]
    },
    {
      "cell_type": "code",
      "execution_count": 12,
      "metadata": {
        "collapsed": false,
        "jupyter": {
          "outputs_hidden": false,
          "source_hidden": false
        },
        "nteract": {
          "transient": {
            "deleting": false
          }
        }
      },
      "outputs": [
        {
          "data": {
            "application/vnd.livy.statement-meta+json": {
              "execution_finish_time": "2022-12-10T02:03:33.0578922Z",
              "execution_start_time": "2022-12-10T02:03:32.8419602Z",
              "livy_statement_state": "available",
              "queued_time": "2022-12-10T02:03:16.3398989Z",
              "session_id": "105",
              "session_start_time": null,
              "spark_jobs": null,
              "spark_pool": "onasynapsepool",
              "state": "finished",
              "statement_id": 12
            },
            "text/plain": [
              "StatementMeta(onasynapsepool, 105, 12, Finished, Available)"
            ]
          },
          "metadata": {},
          "output_type": "display_data"
        }
      ],
      "source": [
        "eventsOrganized = meetings.groupBy(\"src\").count().withColumnRenamed(\"count\", \"NumberOfEventsOrganized\")\n",
        "eventsAttended = meetings.groupBy(\"dst\").count().withColumnRenamed(\"count\", \"NumberOfEventsAttended\")\n",
        "emailsSent = emails.groupBy(\"src\").count().withColumnRenamed(\"count\", \"NumberOfEmailsSent\")\n",
        "emailsReceived = emails.groupBy(\"dst\").count().withColumnRenamed(\"count\", \"NumberOfEmailsReceived\")\n",
        "teamsChatsSent = teamschats.groupBy(\"src\").count().withColumnRenamed(\"count\", \"NumberOfChatsSent\")\n",
        "teamsChatsReceived = teamschats.groupBy(\"dst\").count().withColumnRenamed(\"count\", \"NumberOfChatsReceived\")"
      ]
    },
    {
      "cell_type": "code",
      "execution_count": 13,
      "metadata": {
        "collapsed": false,
        "jupyter": {
          "outputs_hidden": false,
          "source_hidden": false
        },
        "nteract": {
          "transient": {
            "deleting": false
          }
        }
      },
      "outputs": [
        {
          "data": {
            "application/vnd.livy.statement-meta+json": {
              "execution_finish_time": "2022-12-10T02:03:44.6743246Z",
              "execution_start_time": "2022-12-10T02:03:33.2326999Z",
              "livy_statement_state": "available",
              "queued_time": "2022-12-10T02:03:16.4502501Z",
              "session_id": "105",
              "session_start_time": null,
              "spark_jobs": null,
              "spark_pool": "onasynapsepool",
              "state": "finished",
              "statement_id": 13
            },
            "text/plain": [
              "StatementMeta(onasynapsepool, 105, 13, Finished, Available)"
            ]
          },
          "metadata": {},
          "output_type": "display_data"
        }
      ],
      "source": [
        "# Select user properties for output and join all raw email/teamschat/meeting counts\n",
        "if obfuscateEmails:\n",
        "    usersDedup = usersDedup.withColumn(\"EmailAddress\",  md5(F.lower(col(\"mail\"))))\n",
        "else:\n",
        "    usersDedup = usersDedup.withColumn(\"EmailAddress\", F.lower(col(\"mail\")))\n",
        "usersRenamed = usersDedup.selectExpr(\"EmailAddress\", \"department as Department\", \"jobTitle as Title\", \"state as StateOrProvince\",\n",
        "                                     \"country as Country\",\"preferredLanguage as Languages\",\"ptenant as TenantID\")\n",
        "usersJoined = usersRenamed.join(eventsOrganized, col(\"src\") == col(\"EmailAddress\"), \"left\").drop(\"src\") \\\n",
        "                          .join(eventsAttended, col(\"dst\") == col(\"EmailAddress\"), \"left\").drop(\"dst\") \\\n",
        "                          .join(emailsSent, col(\"src\") == col(\"EmailAddress\"), \"left\").drop(\"src\") \\\n",
        "                          .join(emailsReceived, col(\"dst\") == col(\"EmailAddress\"), \"left\").drop(\"dst\") \\\n",
        "                          .join(teamsChatsSent, col(\"src\") == col(\"EmailAddress\"), \"left\").drop(\"src\") \\\n",
        "                          .join(teamsChatsReceived, col(\"dst\") == col(\"EmailAddress\"), \"left\").drop(\"dst\") \\\n",
        "                          .fillna(0)\n",
        "numUsers = usersJoined.count()"
      ]
    },
    {
      "cell_type": "code",
      "execution_count": 14,
      "metadata": {
        "jupyter": {
          "outputs_hidden": false,
          "source_hidden": false
        },
        "nteract": {
          "transient": {
            "deleting": false
          }
        }
      },
      "outputs": [
        {
          "data": {
            "application/vnd.livy.statement-meta+json": {
              "execution_finish_time": "2022-12-10T02:03:45.3413715Z",
              "execution_start_time": "2022-12-10T02:03:44.7941325Z",
              "livy_statement_state": "available",
              "queued_time": "2022-12-10T02:03:16.5657142Z",
              "session_id": "105",
              "session_start_time": null,
              "spark_jobs": null,
              "spark_pool": "onasynapsepool",
              "state": "finished",
              "statement_id": 14
            },
            "text/plain": [
              "StatementMeta(onasynapsepool, 105, 14, Finished, Available)"
            ]
          },
          "metadata": {},
          "output_type": "display_data"
        }
      ],
      "source": [
        "# Calculate out-degrees and in-degrees based on number of connections\n",
        "outDegreeEdges = edgesRenamed.where(col(\"Interactions\") > 0).groupBy(\"Source\").count().select(col(\"Source\"), col(\"count\").alias(\"Out-DegreeIndex\"))\n",
        "inDegreeEdges = edgesRenamed.where(col(\"Interactions\") > 0).groupBy(\"Target\").count().select(col(\"Target\"), col(\"count\").alias(\"In-DegreeIndex\"))"
      ]
    },
    {
      "cell_type": "code",
      "execution_count": 15,
      "metadata": {
        "jupyter": {
          "outputs_hidden": false,
          "source_hidden": false
        },
        "nteract": {
          "transient": {
            "deleting": false
          }
        }
      },
      "outputs": [
        {
          "data": {
            "application/vnd.livy.statement-meta+json": {
              "execution_finish_time": "2022-12-10T02:03:59.0765005Z",
              "execution_start_time": "2022-12-10T02:03:45.8140465Z",
              "livy_statement_state": "available",
              "queued_time": "2022-12-10T02:03:16.7077975Z",
              "session_id": "105",
              "session_start_time": null,
              "spark_jobs": null,
              "spark_pool": "onasynapsepool",
              "state": "finished",
              "statement_id": 15
            },
            "text/plain": [
              "StatementMeta(onasynapsepool, 105, 15, Finished, Available)"
            ]
          },
          "metadata": {},
          "output_type": "display_data"
        }
      ],
      "source": [
        "# Construct networkx graph object\n",
        "import networkx as nx\n",
        "edges = edgesRenamed.selectExpr(\"Source as src\", \"Target as dst\")\n",
        "edgesList = [(e.src, e.dst) for e in edges.collect()]\n",
        "graph = nx.DiGraph()\n",
        "graph.add_edges_from(edgesList)"
      ]
    },
    {
      "cell_type": "code",
      "execution_count": 16,
      "metadata": {
        "jupyter": {
          "outputs_hidden": false,
          "source_hidden": false
        },
        "nteract": {
          "transient": {
            "deleting": false
          }
        }
      },
      "outputs": [
        {
          "data": {
            "application/vnd.livy.statement-meta+json": {
              "execution_finish_time": "2022-12-10T02:03:59.4459331Z",
              "execution_start_time": "2022-12-10T02:03:59.2835443Z",
              "livy_statement_state": "available",
              "queued_time": "2022-12-10T02:03:16.8351699Z",
              "session_id": "105",
              "session_start_time": null,
              "spark_jobs": null,
              "spark_pool": "onasynapsepool",
              "state": "finished",
              "statement_id": 16
            },
            "text/plain": [
              "StatementMeta(onasynapsepool, 105, 16, Finished, Available)"
            ]
          },
          "metadata": {},
          "output_type": "display_data"
        }
      ],
      "source": [
        "# Calculate Influence Index based on page rank\n",
        "graphPageRank = nx.pagerank(graph, alpha=0.85, personalization=None, max_iter=100, tol=0.001, nstart=None, weight=None, dangling=None)"
      ]
    },
    {
      "cell_type": "code",
      "execution_count": 17,
      "metadata": {
        "jupyter": {
          "outputs_hidden": false,
          "source_hidden": false
        },
        "nteract": {
          "transient": {
            "deleting": false
          }
        }
      },
      "outputs": [
        {
          "data": {
            "application/vnd.livy.statement-meta+json": {
              "execution_finish_time": "2022-12-10T02:03:59.78712Z",
              "execution_start_time": "2022-12-10T02:03:59.613214Z",
              "livy_statement_state": "available",
              "queued_time": "2022-12-10T02:03:17.0879276Z",
              "session_id": "105",
              "session_start_time": null,
              "spark_jobs": null,
              "spark_pool": "onasynapsepool",
              "state": "finished",
              "statement_id": 17
            },
            "text/plain": [
              "StatementMeta(onasynapsepool, 105, 17, Finished, Available)"
            ]
          },
          "metadata": {},
          "output_type": "display_data"
        }
      ],
      "source": [
        "# Define udf for adding page rank to dataframe\n",
        "def getPageRank(x):\n",
        "    return graphPageRank.get(x)\n",
        "influenceIndexUdf = udf(getPageRank, t.FloatType())"
      ]
    },
    {
      "cell_type": "code",
      "execution_count": 18,
      "metadata": {
        "jupyter": {
          "outputs_hidden": false,
          "source_hidden": false
        },
        "nteract": {
          "transient": {
            "deleting": false
          }
        }
      },
      "outputs": [
        {
          "data": {
            "application/vnd.livy.statement-meta+json": {
              "execution_finish_time": "2022-12-10T02:04:00.4713704Z",
              "execution_start_time": "2022-12-10T02:04:00.2885723Z",
              "livy_statement_state": "available",
              "queued_time": "2022-12-10T02:03:17.1928786Z",
              "session_id": "105",
              "session_start_time": null,
              "spark_jobs": null,
              "spark_pool": "onasynapsepool",
              "state": "finished",
              "statement_id": 18
            },
            "text/plain": [
              "StatementMeta(onasynapsepool, 105, 18, Finished, Available)"
            ]
          },
          "metadata": {},
          "output_type": "display_data"
        }
      ],
      "source": [
        "# Calculate Betweeness Index\n",
        "# Commented out since the complexity is O(EV) where E = edges, V = vertices\n",
        "# This will be slow for larger graphs, roughly above 10K users\n",
        "# graphBetweenness = nx.betweenness_centrality(graph)"
      ]
    },
    {
      "cell_type": "code",
      "execution_count": 19,
      "metadata": {
        "jupyter": {
          "outputs_hidden": false,
          "source_hidden": false
        },
        "nteract": {
          "transient": {
            "deleting": false
          }
        }
      },
      "outputs": [
        {
          "data": {
            "application/vnd.livy.statement-meta+json": {
              "execution_finish_time": "2022-12-10T02:04:00.8167307Z",
              "execution_start_time": "2022-12-10T02:04:00.6567073Z",
              "livy_statement_state": "available",
              "queued_time": "2022-12-10T02:03:17.2920739Z",
              "session_id": "105",
              "session_start_time": null,
              "spark_jobs": null,
              "spark_pool": "onasynapsepool",
              "state": "finished",
              "statement_id": 19
            },
            "text/plain": [
              "StatementMeta(onasynapsepool, 105, 19, Finished, Available)"
            ]
          },
          "metadata": {},
          "output_type": "display_data"
        }
      ],
      "source": [
        "# Define udf for adding betweeness to dataframe\n",
        "# def getBetweeness(x):\n",
        "#     return graphBetweenness.get(x)\n",
        "# betweenessIndexUdf = udf(getBetweeness, t.FloatType())"
      ]
    },
    {
      "cell_type": "code",
      "execution_count": 20,
      "metadata": {
        "jupyter": {
          "outputs_hidden": false,
          "source_hidden": false
        },
        "nteract": {
          "transient": {
            "deleting": false
          }
        }
      },
      "outputs": [
        {
          "data": {
            "application/vnd.livy.statement-meta+json": {
              "execution_finish_time": "2022-12-10T02:04:01.320833Z",
              "execution_start_time": "2022-12-10T02:04:01.162142Z",
              "livy_statement_state": "available",
              "queued_time": "2022-12-10T02:03:17.4097903Z",
              "session_id": "105",
              "session_start_time": null,
              "spark_jobs": null,
              "spark_pool": "onasynapsepool",
              "state": "finished",
              "statement_id": 20
            },
            "text/plain": [
              "StatementMeta(onasynapsepool, 105, 20, Finished, Available)"
            ]
          },
          "metadata": {},
          "output_type": "display_data"
        }
      ],
      "source": [
        "# Calculate Community Bridging Index\n",
        "from networkx.algorithms import community\n",
        "\n",
        "# Get community partitions and map all nodes to a community index\n",
        "communities = community.asyn_lpa_communities(graph, weight=None, seed=None)\n",
        "labelsMap = {}\n",
        "label = 0\n",
        "for comm in communities:\n",
        "    for node in comm:\n",
        "        labelsMap[node] = str(label)\n",
        "    label += 1"
      ]
    },
    {
      "cell_type": "code",
      "execution_count": 21,
      "metadata": {
        "jupyter": {
          "outputs_hidden": false,
          "source_hidden": false
        },
        "nteract": {
          "transient": {
            "deleting": false
          }
        }
      },
      "outputs": [
        {
          "data": {
            "application/vnd.livy.statement-meta+json": {
              "execution_finish_time": "2022-12-10T02:04:01.6464985Z",
              "execution_start_time": "2022-12-10T02:04:01.4850907Z",
              "livy_statement_state": "available",
              "queued_time": "2022-12-10T02:03:17.5428821Z",
              "session_id": "105",
              "session_start_time": null,
              "spark_jobs": null,
              "spark_pool": "onasynapsepool",
              "state": "finished",
              "statement_id": 21
            },
            "text/plain": [
              "StatementMeta(onasynapsepool, 105, 21, Finished, Available)"
            ]
          },
          "metadata": {},
          "output_type": "display_data"
        }
      ],
      "source": [
        "# Construct udf for mapping users to community label\n",
        "def getLabel(x):\n",
        "    return labelsMap.get(x)\n",
        "\n",
        "labelUdf = udf(getLabel, t.StringType())"
      ]
    },
    {
      "cell_type": "code",
      "execution_count": 22,
      "metadata": {
        "jupyter": {
          "outputs_hidden": false,
          "source_hidden": false
        },
        "nteract": {
          "transient": {
            "deleting": false
          }
        }
      },
      "outputs": [
        {
          "data": {
            "application/vnd.livy.statement-meta+json": {
              "execution_finish_time": "2022-12-10T02:04:02.697354Z",
              "execution_start_time": "2022-12-10T02:04:02.1597297Z",
              "livy_statement_state": "available",
              "queued_time": "2022-12-10T02:03:17.6862868Z",
              "session_id": "105",
              "session_start_time": null,
              "spark_jobs": null,
              "spark_pool": "onasynapsepool",
              "state": "finished",
              "statement_id": 22
            },
            "text/plain": [
              "StatementMeta(onasynapsepool, 105, 22, Finished, Available)"
            ]
          },
          "metadata": {},
          "output_type": "display_data"
        }
      ],
      "source": [
        "# Counts how many communities C a user is connected to with an out edge, normalized by num of communities\n",
        "# For all users, compute C / (num of Communities)\n",
        "# 1 = they are connected to all communities\n",
        "# 0 = they have no connections\n",
        "\n",
        "# enrich edges by mapping target dst node to community\n",
        "edgesLabelled = edges.withColumn(\"Community\", labelUdf(col(\"dst\"))).drop(\"dst\").distinct()\n",
        "\n",
        "# group on src and count how many distinct community labelled targets each src has\n",
        "communityBridging = edgesLabelled.groupBy(\"src\").count() \\\n",
        "                                 .withColumn(\"CommunityBridgeIndex\", col(\"count\") / float(len(labelsMap))).drop(\"count\")"
      ]
    },
    {
      "cell_type": "code",
      "execution_count": 23,
      "metadata": {
        "collapsed": false,
        "jupyter": {
          "outputs_hidden": false,
          "source_hidden": false
        },
        "nteract": {
          "transient": {
            "deleting": false
          }
        }
      },
      "outputs": [
        {
          "data": {
            "application/vnd.livy.statement-meta+json": {
              "execution_finish_time": "2022-12-10T02:04:31.1235452Z",
              "execution_start_time": "2022-12-10T02:04:02.8631971Z",
              "livy_statement_state": "available",
              "queued_time": "2022-12-10T02:03:17.8739428Z",
              "session_id": "105",
              "session_start_time": null,
              "spark_jobs": null,
              "spark_pool": "onasynapsepool",
              "state": "finished",
              "statement_id": 23
            },
            "text/plain": [
              "StatementMeta(onasynapsepool, 105, 23, Finished, Available)"
            ]
          },
          "metadata": {},
          "output_type": "display_data"
        }
      ],
      "source": [
        "# Join all indexes to users and output\n",
        "usersEnriched = usersJoined.join(outDegreeEdges, col(\"Source\") == col(\"EmailAddress\"), \"left\").drop(\"Source\") \\\n",
        "                           .join(inDegreeEdges, col(\"Target\") == col(\"EmailAddress\"), \"left\").drop(\"Target\") \\\n",
        "                           .fillna(0) \\\n",
        "                           .withColumn(\"DegreeIndex\", (col(\"In-DegreeIndex\") + col(\"Out-DegreeIndex\")) / (2 * numUsers)) \\\n",
        "                           .withColumn(\"Community\", labelUdf(col(\"EmailAddress\"))) \\\n",
        "                           .join(communityBridging, col(\"src\") == col(\"EmailAddress\"), \"left\").drop(\"src\") \\\n",
        "                           .withColumn(\"InfluenceIndex\", influenceIndexUdf(col(\"EmailAddress\"))) \\\n",
        "                           .fillna(0) \\\n",
        "                           .withColumn(\"Period\", lit(period))\n",
        "if outputFormat == \"csv\":\n",
        "    usersEnriched.coalesce(1).write.option(\"header\", True).mode(\"overwrite\").csv(usersOutputPath)\n",
        "elif outputFormat == \"parquet\":\n",
        "    usersEnriched.coalesce(1).write.option(\"header\", True).mode(\"overwrite\").parquet(usersOutputPath)"
      ]
    },
    {
      "cell_type": "code",
      "execution_count": null,
      "metadata": {},
      "outputs": [],
      "source": [
        "Path = sc._gateway.jvm.org.apache.hadoop.fs.Path\n",
        "\n",
        "# get the part file generated by spark write\n",
        "fs = Path(interactionsOutputPath).getFileSystem(sc._jsc.hadoopConfiguration())\n",
        "part_file = fs.globStatus(Path(interactionsOutputPath + \"/part*\"))[0].getPath()\n",
        "\n",
        "#target path\n",
        "target_path = \"abfss://output@onastorage.dfs.core.windows.net/interactions_output.\"+outputFormat\n",
        "\n",
        "# move and rename the file\n",
        "fs.rename(part_file, Path(target_path))\n",
        "fs.delete(Path(interactionsOutputPath), True)"
      ]
    },
    {
      "cell_type": "code",
      "execution_count": null,
      "metadata": {},
      "outputs": [],
      "source": [
        "Path = sc._gateway.jvm.org.apache.hadoop.fs.Path\n",
        "\n",
        "# get the part file generated by spark write\n",
        "fs = Path(usersOutputPath).getFileSystem(sc._jsc.hadoopConfiguration())\n",
        "part_file = fs.globStatus(Path(usersOutputPath + \"/part*\"))[0].getPath()\n",
        "\n",
        "#target path\n",
        "target_path = \"abfss://output@onastorage.dfs.core.windows.net/user_output.\"+outputFormat\n",
        "\n",
        "# move and rename the file\n",
        "fs.rename(part_file, Path(target_path))\n",
        "fs.delete(Path(usersOutputPath), True)"
      ]
    }
  ],
  "metadata": {
    "description": null,
    "kernelspec": {
      "display_name": "Synapse PySpark",
      "name": "synapse_pyspark"
    },
    "language_info": {
      "name": "python"
    },
    "save_output": true,
    "synapse_widget": {
      "state": {},
      "version": "0.1"
    }
  },
  "nbformat": 4,
  "nbformat_minor": 2
}
